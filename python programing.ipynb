{
 "cells": [
  {
   "cell_type": "code",
   "execution_count": 6,
   "id": "a9d9a7ae",
   "metadata": {},
   "outputs": [
    {
     "name": "stdout",
     "output_type": "stream",
     "text": [
      "['insidious', 'congering', 'quija', 'death', 'the nun']\n"
     ]
    }
   ],
   "source": [
    "l1=[\"insidious\", \"congering\", \"quija\", \"death\", \"the nun\"]\n",
    "print(l1)"
   ]
  },
  {
   "cell_type": "code",
   "execution_count": null,
   "id": "38b0a33c",
   "metadata": {},
   "outputs": [],
   "source": [
    "#12/08/2023\n",
    "#1.\tPython Array \n",
    "#2.\tArray is collection similar kind of data.\n",
    "#3.\tArrays are used to store multiple values in one single variable. \n",
    "#Array can hold more than one value at a time.\n",
    "\n",
    "#4.\tList \n",
    "#L = [ 1, 2, 3, 4, 5 ]\n",
    "#L= [ ‘A’ , ‘B’ , ‘C’ , ‘D’ ]\n",
    "#L = [ ‘A’ , 1 , ‘C’ , 4  ]\n",
    "#L= [‘A’ , 1 , ‘C’ , 4  , TRUE ]\n",
    "  \n"
   ]
  },
  {
   "cell_type": "code",
   "execution_count": 5,
   "id": "74018517",
   "metadata": {},
   "outputs": [
    {
     "name": "stdout",
     "output_type": "stream",
     "text": [
      "['quija', 'death']\n"
     ]
    }
   ],
   "source": [
    "print(l1[2:4])"
   ]
  },
  {
   "cell_type": "code",
   "execution_count": null,
   "id": "ed7f9eb4",
   "metadata": {},
   "outputs": [],
   "source": [
    "# Add list items\n",
    "# Methods\n",
    "# 1. Append : to add an item to the list at last\n",
    "# 2. Insert : insert a item at a specified index  \n",
    "# 3. Extend : "
   ]
  },
  {
   "cell_type": "code",
   "execution_count": 10,
   "id": "183e5362",
   "metadata": {},
   "outputs": [
    {
     "name": "stdout",
     "output_type": "stream",
     "text": [
      "['insidious', 'congering', 'quija', 'death', 'the nun', 6, 'fear']\n"
     ]
    }
   ],
   "source": [
    "l1.append('fear')\n",
    "print(l1)"
   ]
  },
  {
   "cell_type": "code",
   "execution_count": 11,
   "id": "49df4f69",
   "metadata": {},
   "outputs": [
    {
     "name": "stdout",
     "output_type": "stream",
     "text": [
      "['insidious', 'congering', 1965, 'quija', 'death', 'the nun', 6, 'fear']\n"
     ]
    }
   ],
   "source": [
    "l1.insert(2,1965)\n",
    "print(l1)"
   ]
  },
  {
   "cell_type": "code",
   "execution_count": 12,
   "id": "f0f2991e",
   "metadata": {},
   "outputs": [
    {
     "name": "stdout",
     "output_type": "stream",
     "text": [
      "['python', 'SQL', 'stats']\n"
     ]
    }
   ],
   "source": [
    "course=['python','SQL','stats']\n",
    "print(course)"
   ]
  },
  {
   "cell_type": "code",
   "execution_count": 13,
   "id": "7d305606",
   "metadata": {},
   "outputs": [
    {
     "name": "stdout",
     "output_type": "stream",
     "text": [
      "['TCS', 'infosys', 'wipro']\n"
     ]
    }
   ],
   "source": [
    "company=['TCS','infosys','wipro']\n",
    "print(company)"
   ]
  },
  {
   "cell_type": "code",
   "execution_count": 14,
   "id": "13a6967d",
   "metadata": {},
   "outputs": [
    {
     "name": "stdout",
     "output_type": "stream",
     "text": [
      "['python', 'SQL', 'stats', 'TCS', 'infosys', 'wipro']\n"
     ]
    }
   ],
   "source": [
    "course.extend(company)\n",
    "print(course)"
   ]
  },
  {
   "cell_type": "code",
   "execution_count": null,
   "id": "fa004295",
   "metadata": {},
   "outputs": [],
   "source": [
    "# change list items : to change  the value of a specific iteam reffer to the index number\n"
   ]
  },
  {
   "cell_type": "code",
   "execution_count": 19,
   "id": "32803b16",
   "metadata": {},
   "outputs": [
    {
     "name": "stdout",
     "output_type": "stream",
     "text": [
      "['python', 'excel', 'stats', 'TCS', 'infosys', 'wipro']\n"
     ]
    }
   ],
   "source": [
    "course[1]='excel'\n",
    "print(course)"
   ]
  },
  {
   "cell_type": "code",
   "execution_count": 22,
   "id": "80cefd64",
   "metadata": {
    "scrolled": true
   },
   "outputs": [
    {
     "name": "stdout",
     "output_type": "stream",
     "text": [
      "['python', 'ML', 'AI', 'TCS', 'infosys', 'wipro']\n"
     ]
    }
   ],
   "source": [
    "# range of index\n",
    "course[1:3]='ML','AI'\n",
    "print(course)"
   ]
  },
  {
   "cell_type": "raw",
   "id": "08926c27",
   "metadata": {},
   "source": [
    "\n"
   ]
  },
  {
   "cell_type": "code",
   "execution_count": 1,
   "id": "c4b66d27",
   "metadata": {},
   "outputs": [
    {
     "name": "stdout",
     "output_type": "stream",
     "text": [
      "[1, 2, 4, 5]\n"
     ]
    }
   ],
   "source": [
    "# Remove list items : the remove methods removes the specifed item\n",
    "\n",
    "l1=[1, 2, 3, 4, 5]\n",
    "l1.remove(3)\n",
    "print(l1)"
   ]
  },
  {
   "cell_type": "code",
   "execution_count": 5,
   "id": "a8988b87",
   "metadata": {},
   "outputs": [
    {
     "name": "stdout",
     "output_type": "stream",
     "text": [
      "[2, 1, 1, 4, 5, 6]\n"
     ]
    }
   ],
   "source": [
    "# if there are more then one item with the specified value remove method will remove the first occurence \n",
    "\n",
    "l2=[2, 1, 1, 1, 4, 5, 6]\n",
    "l2.remove(1)\n",
    "print(l2)"
   ]
  },
  {
   "cell_type": "code",
   "execution_count": 7,
   "id": "63f61b78",
   "metadata": {},
   "outputs": [
    {
     "name": "stdout",
     "output_type": "stream",
     "text": [
      "[2, 1, 4, 5, 6]\n"
     ]
    }
   ],
   "source": [
    "# pop() method :\n",
    "# if u do not specify the index the pop method will remove the last item \n",
    "\n",
    "l2.pop(1)\n",
    "print(l2)"
   ]
  },
  {
   "cell_type": "code",
   "execution_count": 9,
   "id": "6e5c7c87",
   "metadata": {},
   "outputs": [
    {
     "name": "stdout",
     "output_type": "stream",
     "text": [
      "[2, 1, 1, 1, 4, 6]\n"
     ]
    }
   ],
   "source": [
    "# delete (del) : delete keyword removes the specifed index \n",
    "# delete keyword can also delete the list completely\n",
    "\n",
    "l1=[2, 1, 1, 1, 4, 5, 6]\n",
    "del l1[5]\n",
    "print(l1)"
   ]
  },
  {
   "cell_type": "code",
   "execution_count": 10,
   "id": "9f7e5ed0",
   "metadata": {},
   "outputs": [
    {
     "ename": "NameError",
     "evalue": "name 'l1' is not defined",
     "output_type": "error",
     "traceback": [
      "\u001b[1;31m---------------------------------------------------------------------------\u001b[0m",
      "\u001b[1;31mNameError\u001b[0m                                 Traceback (most recent call last)",
      "Cell \u001b[1;32mIn[10], line 3\u001b[0m\n\u001b[0;32m      1\u001b[0m l1\u001b[38;5;241m=\u001b[39m[\u001b[38;5;241m2\u001b[39m, \u001b[38;5;241m1\u001b[39m, \u001b[38;5;241m1\u001b[39m, \u001b[38;5;241m1\u001b[39m, \u001b[38;5;241m4\u001b[39m, \u001b[38;5;241m5\u001b[39m, \u001b[38;5;241m6\u001b[39m]\n\u001b[0;32m      2\u001b[0m \u001b[38;5;28;01mdel\u001b[39;00m l1\n\u001b[1;32m----> 3\u001b[0m \u001b[38;5;28mprint\u001b[39m(\u001b[43ml1\u001b[49m)\n",
      "\u001b[1;31mNameError\u001b[0m: name 'l1' is not defined"
     ]
    }
   ],
   "source": [
    "l1=[2, 1, 1, 1, 4, 5, 6]\n",
    "del l1\n",
    "print(l1)"
   ]
  },
  {
   "cell_type": "code",
   "execution_count": 11,
   "id": "5756e9a4",
   "metadata": {},
   "outputs": [
    {
     "name": "stdout",
     "output_type": "stream",
     "text": [
      "[]\n"
     ]
    }
   ],
   "source": [
    "# clear() method : clear will remove the value's only but the structure will always remain \n",
    "\n",
    "l1=[2, 1, 1, 1, 4, 5, 6]\n",
    "l1.clear() \n",
    "print(l1)\n"
   ]
  },
  {
   "cell_type": "code",
   "execution_count": 13,
   "id": "66c984c6",
   "metadata": {},
   "outputs": [
    {
     "name": "stdout",
     "output_type": "stream",
     "text": [
      "['fivestar', 'kit-kat', 'melody', 'munch']\n"
     ]
    }
   ],
   "source": [
    "# Sort() method : sort method will sort the list alfa-numarically in asscending order by defoult\n",
    "\n",
    "choco=['kit-kat', 'melody', 'fivestar', 'munch']\n",
    "choco.sort()\n",
    "print(choco)"
   ]
  },
  {
   "cell_type": "code",
   "execution_count": 3,
   "id": "145e5786",
   "metadata": {},
   "outputs": [
    {
     "name": "stdout",
     "output_type": "stream",
     "text": [
      "[1, 2, 3]\n"
     ]
    }
   ],
   "source": [
    "# Copy Method : to copy iteams from one list to another list.\n",
    "\n",
    "l1=[1 , 2 , 3]\n",
    "l2=l1.copy()\n",
    "print(l2)"
   ]
  },
  {
   "cell_type": "code",
   "execution_count": 6,
   "id": "a478907a",
   "metadata": {},
   "outputs": [
    {
     "name": "stdout",
     "output_type": "stream",
     "text": [
      "[1, 2, 3, 4, 5, 15, 16, 17, 18, 19]\n"
     ]
    }
   ],
   "source": [
    "# Join Two List : for joining or contanitae 2 or more list in python use '+' opertor.\n",
    "\n",
    "l1=[1, 2, 3, 4, 5]\n",
    "l2=[15, 16, 17, 18, 19]\n",
    "l3=l1+l2\n",
    "print(l3)"
   ]
  },
  {
   "cell_type": "code",
   "execution_count": 8,
   "id": "701736b4",
   "metadata": {},
   "outputs": [
    {
     "name": "stdout",
     "output_type": "stream",
     "text": [
      "(1, 2, 3, 4, 5)\n"
     ]
    }
   ],
   "source": [
    "# TUPLE : Ordered , Unchangeable(add,change,remove) , indexed\n",
    "t1=(1, 2, 3, 4, 5)\n",
    "print(t1)\n",
    "# Tuple are used to store multiple iteams in a single variable \n",
    "# A tuple is a collection which is orderd and unchangable to duplicte values \n",
    "# Tuple iteams are idexed "
   ]
  },
  {
   "cell_type": "code",
   "execution_count": null,
   "id": "2f811681",
   "metadata": {},
   "outputs": [],
   "source": [
    "# difference in list and tuple :\n",
    "# 1. list are mutable tuple are inmutable \n",
    "# 2. list uses square bracket while tuple uses curve bracket "
   ]
  },
  {
   "cell_type": "code",
   "execution_count": 11,
   "id": "06fdbb35",
   "metadata": {},
   "outputs": [
    {
     "name": "stdout",
     "output_type": "stream",
     "text": [
      "4\n"
     ]
    }
   ],
   "source": [
    "# to find length\n",
    "t1=(1, 2, 3, 4)\n",
    "print(len(t1))"
   ]
  },
  {
   "cell_type": "code",
   "execution_count": 12,
   "id": "bd7ad8b2",
   "metadata": {},
   "outputs": [
    {
     "name": "stdout",
     "output_type": "stream",
     "text": [
      "<class 'tuple'>\n"
     ]
    }
   ],
   "source": [
    "t1=(1, 2, 3, 4)\n",
    "print(type(t1))"
   ]
  },
  {
   "cell_type": "code",
   "execution_count": 13,
   "id": "107a15ef",
   "metadata": {},
   "outputs": [
    {
     "name": "stdout",
     "output_type": "stream",
     "text": [
      "2\n"
     ]
    }
   ],
   "source": [
    "t2=2\n",
    "print(t2)"
   ]
  },
  {
   "cell_type": "code",
   "execution_count": 16,
   "id": "5959a26c",
   "metadata": {},
   "outputs": [
    {
     "name": "stdout",
     "output_type": "stream",
     "text": [
      "(2,)\n",
      "<class 'tuple'>\n"
     ]
    }
   ],
   "source": [
    "# creat tuple with one iteam we have to add one coma after that\n",
    "t2=2,\n",
    "print(t2)\n",
    "print(type(t2))"
   ]
  },
  {
   "cell_type": "code",
   "execution_count": 18,
   "id": "c4a73934",
   "metadata": {
    "collapsed": true
   },
   "outputs": [
    {
     "name": "stdout",
     "output_type": "stream",
     "text": [
      "('aditya', 'sharim', 'nithish')\n"
     ]
    }
   ],
   "source": [
    "# creat \n",
    "student=('sohan', 'aditya', 'sharim', 'nithish', 'pranav', 'ashutosh')\n",
    "print(student[1:4])"
   ]
  },
  {
   "cell_type": "code",
   "execution_count": 19,
   "id": "bb6a1b04",
   "metadata": {},
   "outputs": [
    {
     "name": "stdout",
     "output_type": "stream",
     "text": [
      "('sohan', 'aditya', 'sharim', 'nithish')\n"
     ]
    }
   ],
   "source": [
    "print(student[:4])"
   ]
  },
  {
   "cell_type": "code",
   "execution_count": 20,
   "id": "37459642",
   "metadata": {},
   "outputs": [
    {
     "name": "stdout",
     "output_type": "stream",
     "text": [
      "('sharim', 'nithish', 'pranav', 'ashutosh')\n"
     ]
    }
   ],
   "source": [
    "print(student[2:])"
   ]
  },
  {
   "cell_type": "code",
   "execution_count": 1,
   "id": "b78e20b5",
   "metadata": {},
   "outputs": [
    {
     "name": "stdout",
     "output_type": "stream",
     "text": [
      "(1, 2, 3, 4, 5)\n"
     ]
    }
   ],
   "source": [
    "t1=(1, 2, 3, 4, 5)\n",
    "print(t1)"
   ]
  },
  {
   "cell_type": "code",
   "execution_count": 3,
   "id": "0bfa18a8",
   "metadata": {},
   "outputs": [
    {
     "ename": "TypeError",
     "evalue": "'tuple' object does not support item assignment",
     "output_type": "error",
     "traceback": [
      "\u001b[1;31m---------------------------------------------------------------------------\u001b[0m",
      "\u001b[1;31mTypeError\u001b[0m                                 Traceback (most recent call last)",
      "Cell \u001b[1;32mIn[3], line 1\u001b[0m\n\u001b[1;32m----> 1\u001b[0m t1[\u001b[38;5;241m1\u001b[39m]\u001b[38;5;241m=\u001b[39m\u001b[38;5;241m8\u001b[39m\n\u001b[0;32m      2\u001b[0m \u001b[38;5;28mprint\u001b[39m(t1)\n",
      "\u001b[1;31mTypeError\u001b[0m: 'tuple' object does not support item assignment"
     ]
    }
   ],
   "source": [
    "t1[1]=8\n",
    "print(t1)"
   ]
  },
  {
   "cell_type": "code",
   "execution_count": 7,
   "id": "30905dfb",
   "metadata": {},
   "outputs": [
    {
     "name": "stdout",
     "output_type": "stream",
     "text": [
      "(1, 15, 3, 4, 5)\n"
     ]
    }
   ],
   "source": [
    "y=list(t1)\n",
    "y[1]=15\n",
    "t1=tuple(y)\n",
    "print(t1)\n"
   ]
  },
  {
   "cell_type": "code",
   "execution_count": 16,
   "id": "9bee1a06",
   "metadata": {},
   "outputs": [
    {
     "name": "stdout",
     "output_type": "stream",
     "text": [
      "['sohan', 'rohan', 'asher', 'prajwel']\n"
     ]
    }
   ],
   "source": [
    "a=('sohan', 'rohan', 'asher', 'prajwel')\n",
    "b=list(a)\n",
    "print(b)"
   ]
  },
  {
   "cell_type": "code",
   "execution_count": 17,
   "id": "65503c3d",
   "metadata": {},
   "outputs": [
    {
     "name": "stdout",
     "output_type": "stream",
     "text": [
      "['sohan', 'rohan', 'asher', 'prajwel', 'nethish']\n"
     ]
    }
   ],
   "source": [
    "b.append('nethish')\n",
    "print(b)"
   ]
  },
  {
   "cell_type": "code",
   "execution_count": 19,
   "id": "87b2333b",
   "metadata": {},
   "outputs": [
    {
     "name": "stdout",
     "output_type": "stream",
     "text": [
      "('sohan', 'rohan', 'asher', 'prajwel', 'nethish')\n"
     ]
    }
   ],
   "source": [
    "a=tuple(b)\n",
    "print(a)"
   ]
  },
  {
   "cell_type": "code",
   "execution_count": 20,
   "id": "f553fc31",
   "metadata": {},
   "outputs": [
    {
     "name": "stdout",
     "output_type": "stream",
     "text": [
      "['sohan', 'rohan', 'asher', 'prajwel']\n"
     ]
    }
   ],
   "source": [
    "a=('sohan', 'rohan', 'asher', 'prajwel')\n",
    "b=list(a)\n",
    "print(b)"
   ]
  },
  {
   "cell_type": "code",
   "execution_count": 21,
   "id": "4f2ce841",
   "metadata": {},
   "outputs": [
    {
     "name": "stdout",
     "output_type": "stream",
     "text": [
      "['sohan', 'asher', 'prajwel']\n"
     ]
    }
   ],
   "source": [
    "b.remove('rohan')\n",
    "print(b)"
   ]
  },
  {
   "cell_type": "code",
   "execution_count": 29,
   "id": "00a96597",
   "metadata": {},
   "outputs": [
    {
     "name": "stdout",
     "output_type": "stream",
     "text": [
      "('sohan', 'rohan', 'asher', 'prajwel')\n"
     ]
    }
   ],
   "source": [
    "b=tuple(a)\n",
    "print(b)"
   ]
  },
  {
   "cell_type": "code",
   "execution_count": 30,
   "id": "3f8eed46",
   "metadata": {},
   "outputs": [
    {
     "name": "stdout",
     "output_type": "stream",
     "text": [
      "('sohan', 'rohan', 'asher')\n"
     ]
    }
   ],
   "source": [
    "t1=('sohan', 'rohan', 'asher')\n",
    "print(t1)"
   ]
  },
  {
   "cell_type": "code",
   "execution_count": 31,
   "id": "748c7925",
   "metadata": {},
   "outputs": [
    {
     "name": "stdout",
     "output_type": "stream",
     "text": [
      "['sohan', 'rohan', 'asher']\n"
     ]
    }
   ],
   "source": [
    "l1=list(t1)\n",
    "print(l1)"
   ]
  },
  {
   "cell_type": "code",
   "execution_count": 33,
   "id": "d92362ad",
   "metadata": {},
   "outputs": [
    {
     "name": "stdout",
     "output_type": "stream",
     "text": [
      "['sohan', 'asher']\n"
     ]
    }
   ],
   "source": [
    "l1.remove('rohan')\n",
    "print(l1)"
   ]
  },
  {
   "cell_type": "code",
   "execution_count": 35,
   "id": "e83bb158",
   "metadata": {},
   "outputs": [
    {
     "name": "stdout",
     "output_type": "stream",
     "text": [
      "('sohan', 'asher')\n"
     ]
    }
   ],
   "source": [
    "t1=tuple(l1)\n",
    "print(t1)"
   ]
  },
  {
   "cell_type": "code",
   "execution_count": 1,
   "id": "d2f3fd0d",
   "metadata": {},
   "outputs": [
    {
     "name": "stdout",
     "output_type": "stream",
     "text": [
      "(1, 2, 3, 4, 5, 'sohan', 'rohan', 'prajwel', 'ramesh')\n"
     ]
    }
   ],
   "source": [
    "# join tuple :\n",
    "\n",
    "t1=(1, 2, 3, 4, 5)\n",
    "t2=('sohan', 'rohan' , 'prajwel', 'ramesh')\n",
    "print(t1+t2)"
   ]
  },
  {
   "cell_type": "code",
   "execution_count": 3,
   "id": "39b67a1c",
   "metadata": {},
   "outputs": [
    {
     "name": "stdout",
     "output_type": "stream",
     "text": [
      "('name', 'class', 'roll no', 'subject', 'name', 'class', 'roll no', 'subject', 'name', 'class', 'roll no', 'subject')\n"
     ]
    }
   ],
   "source": [
    "# to print repeating tuple :\n",
    "t1=('name','class','roll no','subject')\n",
    "shop=t1*3\n",
    "print(shop)"
   ]
  },
  {
   "cell_type": "code",
   "execution_count": 4,
   "id": "d6f022ac",
   "metadata": {},
   "outputs": [
    {
     "name": "stdout",
     "output_type": "stream",
     "text": [
      "(1, 2, 3, 4, 5)\n"
     ]
    }
   ],
   "source": [
    "# functions :\n",
    "\n",
    "t1=(1,2,3,4,5)\n",
    "print(t1)"
   ]
  },
  {
   "cell_type": "code",
   "execution_count": 5,
   "id": "84ea2706",
   "metadata": {},
   "outputs": [
    {
     "name": "stdout",
     "output_type": "stream",
     "text": [
      "5\n"
     ]
    }
   ],
   "source": [
    "print(max(t1))"
   ]
  },
  {
   "cell_type": "code",
   "execution_count": 6,
   "id": "62b1f10a",
   "metadata": {},
   "outputs": [
    {
     "name": "stdout",
     "output_type": "stream",
     "text": [
      "1\n"
     ]
    }
   ],
   "source": [
    "print(min(t1))"
   ]
  },
  {
   "cell_type": "code",
   "execution_count": 8,
   "id": "6cbf6ba6",
   "metadata": {},
   "outputs": [
    {
     "name": "stdout",
     "output_type": "stream",
     "text": [
      "15\n"
     ]
    }
   ],
   "source": [
    "print(sum(t1))"
   ]
  },
  {
   "cell_type": "code",
   "execution_count": 9,
   "id": "c8d1c5fc",
   "metadata": {},
   "outputs": [
    {
     "name": "stdout",
     "output_type": "stream",
     "text": [
      "{1, 2, 3, 4}\n"
     ]
    }
   ],
   "source": [
    "# set : \n",
    "# 1. sets are used to store multiple iteams in a sinhle variable. \n",
    "# 2. set is unordered unchangeble and unindexed.\n",
    "# 3. set iteams are unchangealble but u can remove and add iteams.\n",
    "# 4. duplicates are not allowed in sets.\n",
    "\n",
    "\n",
    "s1={1,2,3,4}\n",
    "print(s1)\n",
    "\n"
   ]
  },
  {
   "cell_type": "code",
   "execution_count": 10,
   "id": "110450b4",
   "metadata": {},
   "outputs": [
    {
     "name": "stdout",
     "output_type": "stream",
     "text": [
      "True\n"
     ]
    }
   ],
   "source": [
    "s1={1,2,3,4}\n",
    "print(3 in s1)"
   ]
  },
  {
   "cell_type": "code",
   "execution_count": 12,
   "id": "439f5b20",
   "metadata": {},
   "outputs": [
    {
     "name": "stdout",
     "output_type": "stream",
     "text": [
      "{1, 2, 3, 4, 5}\n"
     ]
    }
   ],
   "source": [
    "s1.add(5)\n",
    "print(s1)"
   ]
  },
  {
   "cell_type": "code",
   "execution_count": 14,
   "id": "f90afb42",
   "metadata": {},
   "outputs": [
    {
     "name": "stdout",
     "output_type": "stream",
     "text": [
      "{1, 2, 3, 4, 'b', 'a'}\n"
     ]
    }
   ],
   "source": [
    "s1={1,2,3,4}\n",
    "s2={'a','b'}\n",
    "s1.update(s2)\n",
    "print(s1)"
   ]
  },
  {
   "cell_type": "code",
   "execution_count": 15,
   "id": "6dd4fce8",
   "metadata": {},
   "outputs": [
    {
     "name": "stdout",
     "output_type": "stream",
     "text": [
      "{1, 2, 4}\n"
     ]
    }
   ],
   "source": [
    "s1={1,2,3,4}\n",
    "s1.remove(3)\n",
    "print(s1)"
   ]
  },
  {
   "cell_type": "code",
   "execution_count": 16,
   "id": "af99e26d",
   "metadata": {},
   "outputs": [
    {
     "name": "stdout",
     "output_type": "stream",
     "text": [
      "{1, 2, 4}\n"
     ]
    }
   ],
   "source": [
    "s1={1,2,3,4}\n",
    "s1.discard(3)\n",
    "print(s1)"
   ]
  },
  {
   "cell_type": "code",
   "execution_count": 17,
   "id": "44fa7982",
   "metadata": {},
   "outputs": [
    {
     "name": "stdout",
     "output_type": "stream",
     "text": [
      "{1, 2, 3, 4, 5, 'a', 'd', 'c', 'b'}\n"
     ]
    }
   ],
   "source": [
    "# join 2 sets : 1. union \n",
    "#               2. update\n",
    "\n",
    "s1={1,2,3,4,5}\n",
    "s2={'a','b','c','d'}\n",
    "s3=s1.union(s2)\n",
    "print(s3)"
   ]
  },
  {
   "cell_type": "code",
   "execution_count": null,
   "id": "345459d0",
   "metadata": {},
   "outputs": [],
   "source": [
    "s1={'rose','lotus','sinflower','lilly'}"
   ]
  },
  {
   "cell_type": "code",
   "execution_count": 19,
   "id": "251037bc",
   "metadata": {},
   "outputs": [
    {
     "name": "stdout",
     "output_type": "stream",
     "text": [
      " whats is your name?\n",
      " my name is sohan dsouza.\n"
     ]
    }
   ],
   "source": [
    "a= \"\"\" whats is your name?\n",
    " my name is sohan dsouza.\"\"\"\n",
    "print(a)"
   ]
  },
  {
   "cell_type": "code",
   "execution_count": 20,
   "id": "addff7a8",
   "metadata": {},
   "outputs": [
    {
     "name": "stdout",
     "output_type": "stream",
     "text": [
      "ats is \n"
     ]
    }
   ],
   "source": [
    "print(a[3:10])"
   ]
  },
  {
   "cell_type": "code",
   "execution_count": 21,
   "id": "4ad4b51f",
   "metadata": {},
   "outputs": [
    {
     "name": "stdout",
     "output_type": "stream",
     "text": [
      "Enter first number   :  5\n",
      "Enter second number  :  8\n",
      "_____________________________\n",
      "\n",
      "                        _____\n",
      "Sum of two numbers   : | 13.0 |\n",
      "                        -----\n",
      "\n",
      "Difference of two numbers   : | -3.0 |\n",
      "                        -----\n",
      "\n",
      "Product of two numbers   : | 40.0 |\n",
      "                        -----\n",
      "\n",
      "Quatient of two numbers   : | 0.625 |\n",
      "                        -----\n",
      "\n",
      "Percentage of two numbers   : | 5.0 % |\n",
      "                        -----\n",
      "\n",
      "floor division of two numbers   : | 0.0 |\n",
      "                        -----\n"
     ]
    }
   ],
   "source": [
    "x=float(input(\"Enter first number   :  \"))\n",
    "y=float(input(\"Enter second number  :  \"))\n",
    "print('_____________________________')\n",
    "print()\n",
    "print('                        _____')\n",
    "sum=x+y\n",
    "a=x-y\n",
    "b=x*y\n",
    "c=x/y\n",
    "d=x%y\n",
    "e=x//y\n",
    "print(\"Sum of two numbers   : |\", sum,'|')\n",
    "print('                        -----')\n",
    "print()\n",
    "print(\"Difference of two numbers   : |\", a,'|')\n",
    "\n",
    "print(\"Product of two numbers   : |\", b,'|')\n",
    "\n",
    "print(\"Quatient of two numbers   : |\", c,'|')\n",
    "\n",
    "print(\"Percentage of two numbers   : |\", d,'%','|')\n",
    "\n",
    "\n",
    "print(\"floor division of two numbers   : |\", e,'|')\n"
   ]
  },
  {
   "cell_type": "code",
   "execution_count": null,
   "id": "fe10e071",
   "metadata": {},
   "outputs": [],
   "source": [
    "# conditional statements :\n",
    "# Python uses four space as defoult intendation but the number of space can be anything it is up to \n",
    "# the user but min one space is needeed to indent a statement. \n",
    "# First line of python program cannot have intendation.\n",
    "\n",
    "a=float(input(\"Enter first number  (A) : \"))\n",
    "b=float(input(\"Enter second number (B) : \"))\n",
    "print('_______________________________')\n",
    "if a>b:\n",
    " print(\"A is graeter then B\")\n",
    "else:\n",
    " print(\"B is greater then A \")\n"
   ]
  },
  {
   "cell_type": "code",
   "execution_count": null,
   "id": "ee661ad4",
   "metadata": {},
   "outputs": [],
   "source": [
    "a=int(input(\"Enter first number  (A) : \"))\n",
    "b=int(input(\"Enter second number (B) : \"))\n",
    "print('-------------------------------------')\n",
    "if a>b:\n",
    " print(\"A is graeter then B\")\n",
    "elif (a==b):\n",
    " print(\"A is equal to B \")\n",
    "else:\n",
    " print(\"B is greater then A \")\n",
    " "
   ]
  },
  {
   "cell_type": "code",
   "execution_count": null,
   "id": "30b4fd26",
   "metadata": {},
   "outputs": [],
   "source": [
    "a=int(input(\"Enter first number  (A) : \"))\n",
    "b=int(input(\"Enter second number (B) : \"))\n",
    "print('-------------------------------------')\n",
    "if a>b:\n",
    " print(\"A is graeter then B\")\n",
    "elif (a==b):\n",
    " print(\"A is equal to B \")\n",
    "else:\n",
    " print(\"B is greater then A \")\n",
    " "
   ]
  },
  {
   "cell_type": "code",
   "execution_count": 1,
   "id": "394dec2f",
   "metadata": {},
   "outputs": [
    {
     "name": "stdout",
     "output_type": "stream",
     "text": [
      "Enter first number  (A) : 7\n",
      "----------------------------------\n",
      "Entered number is a odd number \n"
     ]
    }
   ],
   "source": [
    "# Write a program to fined whether the given number is even or odd:\n",
    "\n",
    "\n",
    "a=int(input(\"Enter first number  (A) : \"))\n",
    "print('----------------------------------')\n",
    "if a%2==0:\n",
    " print(\"Entered number is a even number \")\n",
    "else:\n",
    "  print(\"Entered number is a odd number \")\n",
    "    "
   ]
  },
  {
   "cell_type": "code",
   "execution_count": null,
   "id": "04004a27",
   "metadata": {},
   "outputs": [],
   "source": [
    "# looping :\n",
    "\n",
    "#EXAMPLE:\n",
    "i=1\n",
    "while (i<10):\n",
    "    print(i)\n",
    "    i=i+1\n",
    "    \n",
    " \n"
   ]
  },
  {
   "cell_type": "code",
   "execution_count": null,
   "id": "2ccf72d6",
   "metadata": {},
   "outputs": [],
   "source": [
    "i=1\n",
    "while (i<10):\n",
    "    print(i)\n",
    "    i=i+1"
   ]
  },
  {
   "cell_type": "markdown",
   "id": "4a52a41a",
   "metadata": {},
   "source": []
  },
  {
   "cell_type": "code",
   "execution_count": 1,
   "id": "13fab68e",
   "metadata": {},
   "outputs": [
    {
     "name": "stdout",
     "output_type": "stream",
     "text": [
      "1\n",
      "2\n",
      "3\n",
      "4\n",
      "5\n"
     ]
    }
   ],
   "source": [
    "i=1\n",
    "n=6\n",
    "while i<n:\n",
    "    print(i)\n",
    "    i=i+1"
   ]
  },
  {
   "cell_type": "code",
   "execution_count": null,
   "id": "0db0d9df",
   "metadata": {},
   "outputs": [],
   "source": [
    "# Write a program  to calculate sum of 5 natural numbers\n",
    "\n",
    "n=int(input(\"Enter positive natural number : \"))\n",
    "if n<0:\n",
    " print(\"Please Enter Psitive Natural number\")\n",
    "else:\n",
    " print(sum)\n",
    "print(\"_________________________________________\")\n",
    "n=int(input(\"Enter a positive natural number : \"))\n",
    "i=1\n",
    "sum = 0\n",
    "while(i <= n):\n",
    "    sum=sum+i\n",
    "    i=i+1\n",
    "print(\"__________________________________________\")\n",
    "print(\"Your sum is  : \" ,sum)"
   ]
  },
  {
   "cell_type": "code",
   "execution_count": null,
   "id": "f7a90bcb",
   "metadata": {},
   "outputs": [],
   "source": [
    "# Wrie a program to find n natiural numbers :\n",
    "\n",
    "n=int(input(\"Enter the number : \"))\n",
    "i=1\n",
    "sum=0\n",
    "while(i<=n):\n",
    " sum=sum+i\n",
    " i=i+1"
   ]
  },
  {
   "cell_type": "code",
   "execution_count": 7,
   "id": "34d78131",
   "metadata": {},
   "outputs": [
    {
     "name": "stdout",
     "output_type": "stream",
     "text": [
      "Enter the number : 0\n",
      "The enterd number is zero\n"
     ]
    }
   ],
   "source": [
    "# Write a program to chuck weather the given number is + or - or zero :\n",
    "a=int(input(\"Enter the number : \"))\n",
    "if a<0:\n",
    " print(\"The entered number is negetive \")\n",
    "elif a>0:\n",
    " print(\"The enterd number is positive \")\n",
    "else:\n",
    " print(\"The enterd number is zero\")"
   ]
  },
  {
   "cell_type": "code",
   "execution_count": 18,
   "id": "43c67912",
   "metadata": {},
   "outputs": [
    {
     "name": "stdout",
     "output_type": "stream",
     "text": [
      "please give first number a: 8\n",
      "please give second number b: 9\n",
      "value of a is :  9\n",
      "value of b is :  8\n"
     ]
    }
   ],
   "source": [
    "# Wap to swap two numbers using third variable :\n",
    "a = int(input(\"please give first number a: \"))\n",
    "b = int(input(\"please give second number b: \"))\n",
    "c=a\n",
    "a=b\n",
    "b=c\n",
    "print(\"value of a is : \", a)\n",
    "print(\"value of b is : \", b)"
   ]
  },
  {
   "cell_type": "code",
   "execution_count": 9,
   "id": "287a6c87",
   "metadata": {},
   "outputs": [
    {
     "name": "stdout",
     "output_type": "stream",
     "text": [
      "please give first number a: 4\n",
      "please give second number b: 5\n",
      "Value of a is :  5\n",
      "Value of b is :  4\n"
     ]
    }
   ],
   "source": [
    "# Without using :\n",
    "\n",
    "a = int(input(\"please give first number a: \"))\n",
    "b = int(input(\"please give second number b: \"))\n",
    "print(\"Value of a is : \",b)\n",
    "print(\"Value of b is : \",a)"
   ]
  },
  {
   "cell_type": "code",
   "execution_count": 14,
   "id": "d207fcf0",
   "metadata": {},
   "outputs": [
    {
     "name": "stdout",
     "output_type": "stream",
     "text": [
      "please give first number a: 7\n",
      "please give second number b: 5\n",
      "value of a :  7 value of b :  5\n"
     ]
    }
   ],
   "source": [
    "a = int(input(\"please give first number a: \"))\n",
    "b = int(input(\"please give second number b: \"))\n",
    "print(\"value of a : \",b,\"value of b : \",)"
   ]
  },
  {
   "cell_type": "code",
   "execution_count": 16,
   "id": "9da35a28",
   "metadata": {},
   "outputs": [
    {
     "name": "stdout",
     "output_type": "stream",
     "text": [
      "please give first number a: 4\n",
      "please give second number b: 5\n",
      "value of a is :  5\n",
      "value of b is :  4\n"
     ]
    }
   ],
   "source": [
    "a = int(input(\"please give first number a : \"))\n",
    "b = int(input(\"please give second number b: \"))\n",
    "a,b=b,a\n",
    "print(\"value of a is : \",a)\n",
    "print(\"value of b is : \",b)"
   ]
  },
  {
   "cell_type": "code",
   "execution_count": 30,
   "id": "49440fec",
   "metadata": {},
   "outputs": [
    {
     "name": "stdout",
     "output_type": "stream",
     "text": [
      "1). Enter your Principle Amount : 300\n",
      "2).             Enter your Time : 8\n",
      "3).             Enter your Rate : 4\n",
      "________________________________________________\n",
      "          =   Simple Intrest is : 96.0\n"
     ]
    }
   ],
   "source": [
    "# Write the program to calculate symple intrest with principle amount time and rate :\n",
    "\n",
    "\n",
    "p=float(input(\"1). Enter your Principle Amount : \"))\n",
    "t=float(input(\"2).             Enter your Time : \"))\n",
    "r=float(input(\"3).             Enter your Rate : \"))\n",
    "x=(p*t*r)/100 \n",
    "print(\"________________________________________________\")\n",
    "print(\"          =   Simple Intrest is :\",x) \n",
    "\n"
   ]
  },
  {
   "cell_type": "code",
   "execution_count": null,
   "id": "d55b6826",
   "metadata": {},
   "outputs": [],
   "source": [
    "# while loop : break , continue , else\n",
    "# break: the break statement can stop the loop even the while condition is true.\n",
    "# continue: continue staement can stop the current titration and continue with the next line\n",
    "# for loop is used for over a sequence \n",
    "\n",
    "i=1\n",
    "while (i<6):\n",
    "    print(i)\n",
    "    if i==3:\n",
    "        break\n",
    "        i=i+1"
   ]
  },
  {
   "cell_type": "code",
   "execution_count": null,
   "id": "7b8949db",
   "metadata": {},
   "outputs": [],
   "source": []
  },
  {
   "cell_type": "code",
   "execution_count": 1,
   "id": "b756ef34",
   "metadata": {},
   "outputs": [
    {
     "name": "stdout",
     "output_type": "stream",
     "text": [
      "1\n",
      "2\n",
      "3\n"
     ]
    }
   ],
   "source": [
    "i=1\n",
    "while (i<6):\n",
    "    print(i)\n",
    "    if i==3:\n",
    "        break\n",
    "    i=i+1"
   ]
  },
  {
   "cell_type": "code",
   "execution_count": 5,
   "id": "f2e3d41f",
   "metadata": {},
   "outputs": [
    {
     "name": "stdout",
     "output_type": "stream",
     "text": [
      "1\n",
      "2\n",
      "4\n",
      "5\n",
      "6\n"
     ]
    }
   ],
   "source": [
    "i=0\n",
    "while(i<6):\n",
    "    i=i+1\n",
    "    if i==3:\n",
    "        continue\n",
    "    print(i)"
   ]
  },
  {
   "cell_type": "code",
   "execution_count": 7,
   "id": "eb20b7bf",
   "metadata": {},
   "outputs": [
    {
     "name": "stdout",
     "output_type": "stream",
     "text": [
      "1\n",
      "2\n",
      "3\n",
      "4\n",
      "5\n",
      "i is greater then 6\n"
     ]
    }
   ],
   "source": [
    "i=1\n",
    "while (i<6):\n",
    "    print(i)\n",
    "    i=i+1\n",
    "else:\n",
    "    print(\"i is greater then 6\")"
   ]
  },
  {
   "cell_type": "code",
   "execution_count": 11,
   "id": "e9828002",
   "metadata": {},
   "outputs": [
    {
     "name": "stdout",
     "output_type": "stream",
     "text": [
      "1\n",
      "2\n",
      "3\n",
      "4\n",
      "5\n"
     ]
    }
   ],
   "source": [
    "list=[1,2,3,4,5]\n",
    "for i in list:\n",
    "        print(i)"
   ]
  },
  {
   "cell_type": "code",
   "execution_count": 12,
   "id": "3ef5c0db",
   "metadata": {},
   "outputs": [
    {
     "name": "stdout",
     "output_type": "stream",
     "text": [
      "a\n",
      "b\n",
      "c\n",
      "d\n"
     ]
    }
   ],
   "source": [
    "list=['a','b','c','d']\n",
    "for i in list:\n",
    "        print(i)"
   ]
  },
  {
   "cell_type": "code",
   "execution_count": 3,
   "id": "08e45fc4",
   "metadata": {},
   "outputs": [
    {
     "name": "stdout",
     "output_type": "stream",
     "text": [
      "ford\n",
      "maruthi\n"
     ]
    }
   ],
   "source": [
    "cars=['ford','audi','maruthi']\n",
    "for i in cars:\n",
    "    if(i=='audi'):\n",
    "        continue\n",
    "    print(i)"
   ]
  },
  {
   "cell_type": "code",
   "execution_count": 4,
   "id": "8a7abc5a",
   "metadata": {},
   "outputs": [
    {
     "name": "stdout",
     "output_type": "stream",
     "text": [
      "2\n",
      "3\n",
      "4\n",
      "5\n"
     ]
    }
   ],
   "source": [
    "# Range Function :Range functions returns a sequance of numbers starting from zero by defoult and increments by 1 by \n",
    "# defoult and ends at a specified number \n",
    "\n",
    "for i in range(2,6):\n",
    "    print(i)"
   ]
  },
  {
   "cell_type": "code",
   "execution_count": 6,
   "id": "25b95b24",
   "metadata": {},
   "outputs": [
    {
     "name": "stdout",
     "output_type": "stream",
     "text": [
      "2\n",
      "5\n",
      "8\n",
      "11\n",
      "14\n",
      "17\n",
      "20\n",
      "23\n",
      "26\n",
      "29\n"
     ]
    }
   ],
   "source": [
    "for i in range(2,30,3):\n",
    "    print(i)"
   ]
  },
  {
   "cell_type": "code",
   "execution_count": 14,
   "id": "b48a2dc3",
   "metadata": {},
   "outputs": [
    {
     "ename": "SyntaxError",
     "evalue": "expected ':' (1977315181.py, line 1)",
     "output_type": "error",
     "traceback": [
      "\u001b[1;36m  Cell \u001b[1;32mIn[14], line 1\u001b[1;36m\u001b[0m\n\u001b[1;33m    for i in range (6)\u001b[0m\n\u001b[1;37m                      ^\u001b[0m\n\u001b[1;31mSyntaxError\u001b[0m\u001b[1;31m:\u001b[0m expected ':'\n"
     ]
    }
   ],
   "source": [
    "for i in range (6)\n",
    "if x==3:\n",
    "    break\n",
    "print(x)\n",
    "else:\n",
    "print('finally finished')"
   ]
  },
  {
   "cell_type": "code",
   "execution_count": 1,
   "id": "88ede904",
   "metadata": {},
   "outputs": [
    {
     "name": "stdout",
     "output_type": "stream",
     "text": [
      "Enter a natural number\n",
      "5\n",
      "Your sum is :  1\n",
      "Your sum is :  9\n",
      "Your sum is :  36\n",
      "Your sum is :  100\n",
      "Your sum is :  225\n"
     ]
    }
   ],
   "source": [
    "print(\"Enter a natural number\")\n",
    "num=int(input())\n",
    "sum=0\n",
    "if num<0:\n",
    "    print(\"Enter a positive number : \")\n",
    "    num=int(input())\n",
    "else:\n",
    "     for i in range(1, num+1):\n",
    "        sum=sum+(i**3)\n",
    "        print(\"Your sum is : \",sum)\n",
    "    \n",
    "    \n"
   ]
  },
  {
   "cell_type": "code",
   "execution_count": 23,
   "id": "cd049a3b",
   "metadata": {},
   "outputs": [
    {
     "name": "stdout",
     "output_type": "stream",
     "text": [
      "Enter any Number : 123456789\n",
      "Reverse of Number is =  987654321\n"
     ]
    }
   ],
   "source": [
    "# reverse of any number :\n",
    "\n",
    "i=int(input(\"Enter any Number : \"))\n",
    "rev=0\n",
    "while(i>0):\n",
    "    rev=(rev*10)+i%10\n",
    "    i=i//10\n",
    "print(\"Reverse of Number is = \", rev)"
   ]
  },
  {
   "cell_type": "code",
   "execution_count": null,
   "id": "9eaec7b4",
   "metadata": {},
   "outputs": [],
   "source": [
    "i=int(input(\"Enter any Number : \"))\n",
    "rev=0\n",
    "x=i\n",
    "while(i>0):\n",
    "    rev=(rev*10)+i%10\n",
    "    i=i//10\n",
    "print(\"Reverse of Number is = \", rev)\n",
    "if x==rev:\n",
    "    print(\"Number is palindrime\")\n",
    "else:\n",
    "    print(\"Number is not palindrome\")"
   ]
  },
  {
   "cell_type": "code",
   "execution_count": 1,
   "id": "fda6e050",
   "metadata": {},
   "outputs": [
    {
     "name": "stdout",
     "output_type": "stream",
     "text": [
      "Enter any Number : 123\n",
      "Reverse of Number is =  321\n",
      "Number is not palindrome\n"
     ]
    }
   ],
   "source": [
    "i=int(input(\"Enter any Number : \"))\n",
    "rev=0\n",
    "x=i\n",
    "while(i>0):\n",
    "    rev=(rev*10)+i%10\n",
    "    i=i//10\n",
    "print(\"Reverse of Number is = \", rev)\n",
    "if x==rev:\n",
    "    print(\"Number is palindrime\")\n",
    "else:\n",
    "    print(\"Number is not palindrome\")"
   ]
  },
  {
   "cell_type": "code",
   "execution_count": 1,
   "id": "e01524e6",
   "metadata": {},
   "outputs": [
    {
     "ename": "SyntaxError",
     "evalue": "invalid syntax (423829744.py, line 2)",
     "output_type": "error",
     "traceback": [
      "\u001b[1;36m  Cell \u001b[1;32mIn[1], line 2\u001b[1;36m\u001b[0m\n\u001b[1;33m    fact=1\u001b[0m\n\u001b[1;37m    ^\u001b[0m\n\u001b[1;31mSyntaxError\u001b[0m\u001b[1;31m:\u001b[0m invalid syntax\n"
     ]
    }
   ],
   "source": [
    "i=int(input(\"Enter the Number : \"))\\\n",
    "fact=1\n",
    "if num < 0:\n",
    "    print(\"Sorry, factorial does not exist for negative numbers\")\n",
    "elif num == 0:\n",
    "    print(\"The factorial of 0 is 1\")\n",
    "else:\n",
    "    for i in range(1,num + 1):\n",
    "       fact = fact*i\n",
    "    print(\"The factorial of\",num,\"is\",fact)"
   ]
  },
  {
   "cell_type": "code",
   "execution_count": 2,
   "id": "8c76eb07",
   "metadata": {},
   "outputs": [
    {
     "name": "stdout",
     "output_type": "stream",
     "text": [
      "Enter the year : 2024\n",
      "2024 is a leap year\n"
     ]
    }
   ],
   "source": [
    "year = int(input(\"Enter the year : \" ))\n",
    "if (year % 400 == 0):\n",
    "    print(\"{0} is a leap year\".format(year))\n",
    "elif(year % 100 == 0):\n",
    "    print(\"{0} is a leap year\".format(year))\n",
    "elif(year % 4 == 0):\n",
    "    print(\"{0} is a leap year\".format(year))\n",
    "else:\n",
    "    print(\"{0} is not a leap year\".format(year))"
   ]
  },
  {
   "cell_type": "code",
   "execution_count": 3,
   "id": "4fe3ea81",
   "metadata": {},
   "outputs": [
    {
     "name": "stdout",
     "output_type": "stream",
     "text": [
      "Enter the number : 1\n",
      "Factorial of 1 is :  1\n"
     ]
    }
   ],
   "source": [
    "num=int(input(\"Enter the number : \"))\n",
    "fact=1\n",
    "for x in range(1,num+1):\n",
    "    fact=fact*x\n",
    "print(\"Factorial of {0} is : \".format(num),fact)"
   ]
  },
  {
   "cell_type": "code",
   "execution_count": null,
   "id": "85b237a2",
   "metadata": {},
   "outputs": [],
   "source": []
  },
  {
   "cell_type": "code",
   "execution_count": null,
   "id": "27f9ec23",
   "metadata": {},
   "outputs": [],
   "source": []
  }
 ],
 "metadata": {
  "kernelspec": {
   "display_name": "Python 3 (ipykernel)",
   "language": "python",
   "name": "python3"
  },
  "language_info": {
   "codemirror_mode": {
    "name": "ipython",
    "version": 3
   },
   "file_extension": ".py",
   "mimetype": "text/x-python",
   "name": "python",
   "nbconvert_exporter": "python",
   "pygments_lexer": "ipython3",
   "version": "3.10.9"
  }
 },
 "nbformat": 4,
 "nbformat_minor": 5
}
